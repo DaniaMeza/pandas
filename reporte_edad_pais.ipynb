{
 "cells": [
  {
   "cell_type": "code",
   "execution_count": 1,
   "id": "80997873-82fe-443f-9171-f438262a2262",
   "metadata": {},
   "outputs": [
    {
     "name": "stdout",
     "output_type": "stream",
     "text": [
      "age      23  24  25  26  27  28  29  30  31  32  ...  65  66  67  68  69  70  \\\n",
      "country                                          ...                           \n",
      "AD        0   0   0   0   0   0   0   0   0   0  ...   0   0   0   0   0   0   \n",
      "AE        0   0   0   0   0   0   0   0   0   0  ...   0   0   0   0   0   0   \n",
      "AF        0   0   0   0   0   0   0   0   0   0  ...   0   0   0   0   0   0   \n",
      "AL        0   0   0   0   0   0   0   0   0   0  ...   0   0   0   0   0   0   \n",
      "AO        0   0   0   0   0   0   0   0   0   0  ...   0   0   0   0   0   0   \n",
      "...      ..  ..  ..  ..  ..  ..  ..  ..  ..  ..  ...  ..  ..  ..  ..  ..  ..   \n",
      "WS        0   0   0   0   0   0   0   0   0   0  ...   0   0   0   0   0   0   \n",
      "YE        0   0   1   0   0   0   0   0   0   0  ...   1   0   0   0   0   0   \n",
      "ZA        0   0   0   0   0   0   0   0   0   0  ...   1   0   0   1   0   0   \n",
      "ZM        0   0   0   0   0   0   0   0   0   0  ...   0   0   0   0   0   0   \n",
      "ZW        0   0   0   0   0   0   0   0   0   0  ...   0   0   0   0   0   0   \n",
      "\n",
      "age      71  72  73  74  \n",
      "country                  \n",
      "AD        0   0   0   0  \n",
      "AE        0   0   0   0  \n",
      "AF        0   0   0   0  \n",
      "AL        0   0   0   0  \n",
      "AO        0   0   0   0  \n",
      "...      ..  ..  ..  ..  \n",
      "WS        0   0   0   0  \n",
      "YE        0   0   0   0  \n",
      "ZA        0   0   0   0  \n",
      "ZM        0   0   0   0  \n",
      "ZW        0   0   0   0  \n",
      "\n",
      "[128 rows x 52 columns]\n"
     ]
    }
   ],
   "source": [
    "import pandas as pd\n",
    "\n",
    "# Cargar el archivo CSV\n",
    "df = pd.read_csv('MOCK_DATA.csv')\n",
    "\n",
    "# Calcular la edad\n",
    "hoy = pd.Timestamp('now')\n",
    "df['birthday'] = pd.to_datetime(df['birthday'])\n",
    "\n",
    "def calcular_edad(birthday, hoy):\n",
    "    return hoy.year - birthday.year - ((hoy.month, hoy.day) < (birthday.month, birthday.day))\n",
    "\n",
    "df['age'] = df['birthday'].apply(lambda x: calcular_edad(x, hoy))\n",
    "\n",
    "# Generar el reporte de cuántas personas hay por país y por edad\n",
    "reporte_edad_pais = df.groupby(['country', 'age']).size().unstack(fill_value=0)\n",
    "\n",
    "# Mostrar el reporte\n",
    "print(reporte_edad_pais)"
   ]
  },
  {
   "cell_type": "code",
   "execution_count": null,
   "id": "13fe592a-b634-459a-a6da-8d8a3f9280ad",
   "metadata": {},
   "outputs": [],
   "source": []
  }
 ],
 "metadata": {
  "kernelspec": {
   "display_name": "Python 3 (ipykernel)",
   "language": "python",
   "name": "python3"
  },
  "language_info": {
   "codemirror_mode": {
    "name": "ipython",
    "version": 3
   },
   "file_extension": ".py",
   "mimetype": "text/x-python",
   "name": "python",
   "nbconvert_exporter": "python",
   "pygments_lexer": "ipython3",
   "version": "3.10.14"
  }
 },
 "nbformat": 4,
 "nbformat_minor": 5
}
