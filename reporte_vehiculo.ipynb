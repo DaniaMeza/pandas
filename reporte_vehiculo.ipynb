{
 "cells": [
  {
   "cell_type": "code",
   "execution_count": 1,
   "id": "00f3e525-b3ad-4bb3-9195-4ba611285468",
   "metadata": {},
   "outputs": [
    {
     "name": "stdout",
     "output_type": "stream",
     "text": [
      "car_model_year\n",
      "1926     1\n",
      "1958     1\n",
      "1964     2\n",
      "1965     2\n",
      "1966     3\n",
      "1967     3\n",
      "1968     5\n",
      "1970     2\n",
      "1971     1\n",
      "1974     3\n",
      "1975     1\n",
      "1976     1\n",
      "1983     2\n",
      "1984     7\n",
      "1985     8\n",
      "1986    12\n",
      "1987    14\n",
      "1988    10\n",
      "1989    17\n",
      "1990     9\n",
      "1991    16\n",
      "1992    38\n",
      "1993    53\n",
      "1994    28\n",
      "1995    41\n",
      "1996    33\n",
      "1997    37\n",
      "1998    35\n",
      "1999    45\n",
      "2000    36\n",
      "2001    38\n",
      "2002    30\n",
      "2003    36\n",
      "2004    31\n",
      "2005    46\n",
      "2006    50\n",
      "2007    50\n",
      "2008    37\n",
      "2009    57\n",
      "2010    41\n",
      "2011    55\n",
      "2012    54\n",
      "2013     9\n",
      "dtype: int64\n"
     ]
    }
   ],
   "source": [
    "import pandas as pd\n",
    "\n",
    "# Cargar el archivo CSV\n",
    "df = pd.read_csv('MOCK_DATA.csv')\n",
    "\n",
    "# Generar el reporte de cuántas personas hay por año de vehículo\n",
    "reporte_anio_vehiculo = df.groupby('car_model_year').size()\n",
    "\n",
    "# Mostrar el reporte\n",
    "print(reporte_anio_vehiculo)"
   ]
  },
  {
   "cell_type": "code",
   "execution_count": null,
   "id": "f703c631-950f-4141-8118-6c5c7c4607cf",
   "metadata": {},
   "outputs": [],
   "source": []
  }
 ],
 "metadata": {
  "kernelspec": {
   "display_name": "Python 3 (ipykernel)",
   "language": "python",
   "name": "python3"
  },
  "language_info": {
   "codemirror_mode": {
    "name": "ipython",
    "version": 3
   },
   "file_extension": ".py",
   "mimetype": "text/x-python",
   "name": "python",
   "nbconvert_exporter": "python",
   "pygments_lexer": "ipython3",
   "version": "3.10.14"
  }
 },
 "nbformat": 4,
 "nbformat_minor": 5
}
