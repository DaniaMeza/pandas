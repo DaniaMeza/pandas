{
 "cells": [
  {
   "cell_type": "code",
   "execution_count": 1,
   "id": "f8d64a4f-2ea4-42e4-ac25-2065c87bd125",
   "metadata": {},
   "outputs": [
    {
     "name": "stdout",
     "output_type": "stream",
     "text": [
      "gender   Agender  Bigender  Female  Genderfluid  Genderqueer  Male  \\\n",
      "country                                                              \n",
      "AD             1         0       0            0            0     0   \n",
      "AE             0         0       1            0            0     0   \n",
      "AF             0         0       1            0            1     1   \n",
      "AL             0         0       1            0            0     1   \n",
      "AO             0         0       0            0            0     1   \n",
      "...          ...       ...     ...          ...          ...   ...   \n",
      "WS             0         0       1            0            0     0   \n",
      "YE             0         0       2            0            0     3   \n",
      "ZA             0         0       5            0            0     1   \n",
      "ZM             0         0       1            0            0     0   \n",
      "ZW             0         0       0            0            0     2   \n",
      "\n",
      "gender   Non-binary  Polygender  \n",
      "country                          \n",
      "AD                0           0  \n",
      "AE                0           0  \n",
      "AF                0           0  \n",
      "AL                0           0  \n",
      "AO                0           0  \n",
      "...             ...         ...  \n",
      "WS                0           0  \n",
      "YE                0           0  \n",
      "ZA                0           0  \n",
      "ZM                0           0  \n",
      "ZW                0           0  \n",
      "\n",
      "[128 rows x 8 columns]\n"
     ]
    }
   ],
   "source": [
    "import pandas as pd\n",
    "\n",
    "# Cargar el archivo CSV\n",
    "df = pd.read_csv('MOCK_DATA.csv')\n",
    "\n",
    "# Generar el reporte de cuántos hombres y mujeres hay por país\n",
    "reporte_genero_pais = df.groupby(['country', 'gender']).size().unstack(fill_value=0)\n",
    "\n",
    "# Mostrar el reporte\n",
    "print(reporte_genero_pais)\n"
   ]
  },
  {
   "cell_type": "code",
   "execution_count": null,
   "id": "8bd227cb-3498-4082-b38a-94e79cdd32ce",
   "metadata": {},
   "outputs": [],
   "source": []
  }
 ],
 "metadata": {
  "kernelspec": {
   "display_name": "Python 3 (ipykernel)",
   "language": "python",
   "name": "python3"
  },
  "language_info": {
   "codemirror_mode": {
    "name": "ipython",
    "version": 3
   },
   "file_extension": ".py",
   "mimetype": "text/x-python",
   "name": "python",
   "nbconvert_exporter": "python",
   "pygments_lexer": "ipython3",
   "version": "3.10.14"
  }
 },
 "nbformat": 4,
 "nbformat_minor": 5
}
