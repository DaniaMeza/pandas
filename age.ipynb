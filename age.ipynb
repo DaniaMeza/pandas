{
 "cells": [
  {
   "cell_type": "code",
   "execution_count": 3,
   "id": "052895ab-7ac6-451a-89f3-0c2d961ee808",
   "metadata": {},
   "outputs": [
    {
     "name": "stdout",
     "output_type": "stream",
     "text": [
      "       id first_name last_name                      email  gender  \\\n",
      "0       1   Courtney   Manners        cmanners0@exblog.jp  Female   \n",
      "1       2     Hillel  Widdison          hwiddison1@nhs.uk    Male   \n",
      "2       3      Dolli   Grimble            dgrimble2@51.la  Female   \n",
      "3       4   Gerhardt    Fitter         gfitter3@salon.com    Male   \n",
      "4       5    Donnell    Almond        dalmond4@disqus.com    Male   \n",
      "..    ...        ...       ...                        ...     ...   \n",
      "995   996      Twyla    Corley        tcorleyrn@jigsy.com  Female   \n",
      "996   997   Dietrich   Damsell     ddamsellro@booking.com    Male   \n",
      "997   998  Morganica      Nary            mnaryrp@tiny.cc  Female   \n",
      "998   999   Fredelia     Havik  fhavikrq@chronoengine.com  Female   \n",
      "999  1000     Borden  Standage     bstandagerr@ustream.tv    Male   \n",
      "\n",
      "         ip_address   birthday country car_model  car_model_year  age  \\\n",
      "0     41.26.205.119 2000-08-28      GT  E-Series            1986   23   \n",
      "1    136.84.148.182 1974-06-21      ID    Avalon            1998   50   \n",
      "2      83.75.254.18 1990-12-17      ID  Passport            1999   33   \n",
      "3     59.246.30.133 1972-02-04      SL     Metro            1993   52   \n",
      "4     10.148.96.238 1988-03-26      ID       GTO            1974   36   \n",
      "..              ...        ...     ...       ...             ...  ...   \n",
      "995   198.208.186.9 1950-07-26      AU  CL-Class            2011   73   \n",
      "996    5.148.252.98 1981-02-07      JP        A3            2012   43   \n",
      "997   71.143.165.97 1961-07-25      GR   Prelude            1994   62   \n",
      "998  50.136.181.136 1976-02-12      RU   Caprice            1996   48   \n",
      "999  131.45.151.191 1958-12-10      CN   Avenger            2012   65   \n",
      "\n",
      "            full_name  \n",
      "0    Courtney Manners  \n",
      "1     Hillel Widdison  \n",
      "2       Dolli Grimble  \n",
      "3     Gerhardt Fitter  \n",
      "4      Donnell Almond  \n",
      "..                ...  \n",
      "995      Twyla Corley  \n",
      "996  Dietrich Damsell  \n",
      "997    Morganica Nary  \n",
      "998    Fredelia Havik  \n",
      "999   Borden Standage  \n",
      "\n",
      "[1000 rows x 12 columns]\n"
     ]
    }
   ],
   "source": [
    "import pandas as pd\n",
    "\n",
    "# Cargar el archivo CSV\n",
    "df = pd.read_csv('MOCK_DATA.csv')\n",
    "\n",
    "# Calcular la edad\n",
    "hoy = pd.Timestamp('now')\n",
    "df['birthday'] = pd.to_datetime(df['birthday'])\n",
    "\n",
    "# Función para calcular la edad\n",
    "def calcular_edad(birthday, hoy):\n",
    "    return hoy.year - birthday.year - ((hoy.month, hoy.day) < (birthday.month, birthday.day))\n",
    "\n",
    "df['age'] = df['birthday'].apply(lambda x: calcular_edad(x, hoy))\n",
    "\n",
    "# Crear el nombre completo\n",
    "df['full_name'] = df['first_name'] + ' ' + df['last_name']\n",
    "\n",
    "# Mostrar el DataFrame resultante\n",
    "print(df)\n"
   ]
  },
  {
   "cell_type": "code",
   "execution_count": null,
   "id": "52b5c5c7-4211-483f-8f1a-ff66a858a1f7",
   "metadata": {},
   "outputs": [],
   "source": []
  }
 ],
 "metadata": {
  "kernelspec": {
   "display_name": "Python 3 (ipykernel)",
   "language": "python",
   "name": "python3"
  },
  "language_info": {
   "codemirror_mode": {
    "name": "ipython",
    "version": 3
   },
   "file_extension": ".py",
   "mimetype": "text/x-python",
   "name": "python",
   "nbconvert_exporter": "python",
   "pygments_lexer": "ipython3",
   "version": "3.10.14"
  }
 },
 "nbformat": 4,
 "nbformat_minor": 5
}
